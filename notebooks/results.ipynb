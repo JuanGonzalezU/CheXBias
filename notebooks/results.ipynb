{
 "cells": [
  {
   "cell_type": "markdown",
   "metadata": {},
   "source": [
    "## Model results"
   ]
  },
  {
   "cell_type": "markdown",
   "metadata": {},
   "source": [
    "### Import libraries"
   ]
  },
  {
   "cell_type": "code",
   "execution_count": null,
   "metadata": {},
   "outputs": [],
   "source": [
    "import pandas as pd\n",
    "import os\n",
    "from IPython.display import display\n",
    "from sklearn.metrics import accuracy_score, precision_score, recall_score, f1_score\n",
    "import pandas as pd\n",
    "import numpy as np\n",
    "from tqdm import tqdm\n",
    "import seaborn as sns\n",
    "import pygwalker as pyg\n",
    "from matplotlib import pyplot as plt\n",
    "import warnings"
   ]
  },
  {
   "cell_type": "markdown",
   "metadata": {},
   "source": [
    "### Load results"
   ]
  },
  {
   "cell_type": "code",
   "execution_count": null,
   "metadata": {},
   "outputs": [],
   "source": [
    "# Path to results\n",
    "results_path = '/home/juandres/aml/CheXBias/data/processed/'\n",
    "\n",
    "# Choose model \n",
    "model_group = 'densenet121'\n",
    "\n",
    "# Get all trained models\n",
    "models = os.listdir(os.path.join(results_path,model_group))"
   ]
  },
  {
   "cell_type": "markdown",
   "metadata": {},
   "source": [
    "### Ground truth"
   ]
  },
  {
   "cell_type": "code",
   "execution_count": null,
   "metadata": {},
   "outputs": [],
   "source": [
    "df_gt = pd.read_csv('/home/juandres/aml/CheXBias/data/raw/CheXpert-v1.0/train_VisualCheXbert.csv')"
   ]
  },
  {
   "cell_type": "markdown",
   "metadata": {},
   "source": [
    "### Get Results"
   ]
  },
  {
   "cell_type": "code",
   "execution_count": null,
   "metadata": {},
   "outputs": [],
   "source": [
    "# General df with results\n",
    "results_per_class = pd.DataFrame()\n",
    "\n",
    "# Iterate over all models\n",
    "for model in tqdm(models): #['epochs_5_subsample_2_sexproportion_6040_noresch.csv']:\n",
    "\n",
    "    # Load model results\n",
    "    df_model = pd.read_csv(os.path.join(results_path,model_group,model))\n",
    "\n",
    "    # Get classes\n",
    "    classes = df_model.columns[1:]\n",
    "\n",
    "    # Get proportion of female data\n",
    "\n",
    "    proportion_input = model.split('_')[5]\n",
    "    if proportion_input == '0100':\n",
    "        proportion = 100\n",
    "    elif proportion_input == '1000':\n",
    "        proportion = 0\n",
    "    else:\n",
    "        proportion = 100 - int(proportion_input[:2])\n",
    "\n",
    "    # Get metrics per class\n",
    "    metrics = {}\n",
    "\n",
    "    for class_name in classes:\n",
    "        true_labels = df_gt[class_name]\n",
    "        predicted_labels = df_model[class_name]\n",
    "        \n",
    "        accuracy = accuracy_score(true_labels, predicted_labels)\n",
    "        precision = precision_score(true_labels, predicted_labels)\n",
    "        recall = recall_score(true_labels, predicted_labels)\n",
    "        f1 = f1_score(true_labels, predicted_labels)\n",
    "        \n",
    "        metrics[class_name] = {\n",
    "            'Accuracy': accuracy,\n",
    "            'Precision': precision,\n",
    "            'Recall': recall,\n",
    "            'F1': f1,\n",
    "            'Female Percentage' :  int(proportion)\n",
    "        }\n",
    "\n",
    "    # Create a DataFrame from the metrics dictionary\n",
    "    metrics_per_class_df = pd.DataFrame(metrics).T\n",
    "    \n",
    "    # Concatenate results\n",
    "    results_per_class = pd.concat([results_per_class, metrics_per_class_df], axis=0)\n",
    "\n",
    "results_per_class = results_per_class.reset_index()\n",
    "results_per_class['Female Percentage'] = results_per_class['Female Percentage'].astype(int)"
   ]
  },
  {
   "cell_type": "code",
   "execution_count": null,
   "metadata": {},
   "outputs": [],
   "source": [
    "results_per_class"
   ]
  },
  {
   "cell_type": "markdown",
   "metadata": {},
   "source": [
    "### General Results"
   ]
  },
  {
   "cell_type": "code",
   "execution_count": null,
   "metadata": {},
   "outputs": [],
   "source": [
    "\n",
    "sns.set(style=\"darkgrid\")\n",
    "\n",
    "warnings.filterwarnings(\"ignore\", \"is_categorical_dtype\")\n",
    "warnings.filterwarnings(\"ignore\", \"use_inf_as_na\")\n",
    "\n",
    "fig, ax = plt.subplots(2,2,figsize = (10,8))\n",
    "\n",
    "sns.boxplot(data = results_per_class,x = 'Female Percentage',y = 'Accuracy',ax=ax[0,0], palette=\"crest\")\n",
    "sns.boxplot(data = results_per_class,x = 'Female Percentage',y = 'Precision',ax=ax[0,1],  palette=\"crest\")\n",
    "sns.boxplot(data = results_per_class,x = 'Female Percentage',y = 'Recall',ax=ax[1,0],  palette=\"crest\")\n",
    "sns.boxplot(data = results_per_class,x = 'Female Percentage',y = 'F1',ax=ax[1,1],  palette=\"crest\")\n",
    "\n"
   ]
  },
  {
   "cell_type": "code",
   "execution_count": null,
   "metadata": {},
   "outputs": [],
   "source": [
    "# Define marker styles for each class\n",
    "marker_styles = ['o', 's', 'D', '^', 'v', '<', '>', 'p', '*', 'H', 'X', 'd']\n",
    "\n",
    "# Create a 2x2 grid of subplots\n",
    "fig, axes = plt.subplots(2, 2, figsize=(8, 8))\n",
    "\n",
    "# Define the classes for the subplots\n",
    "classes = ['Accuracy', 'Precision', 'Recall', 'F1']\n",
    "\n",
    "# Loop through the classes and corresponding subplots\n",
    "for class_name, ax in zip(classes, axes.flat):\n",
    "    # Create point plot for the current class\n",
    "    sns.pointplot(data=results_per_class, x='Female Percentage', y=class_name, hue='index', dodge=True, palette='crest', markers=marker_styles, linestyles='-', ax=ax)\n",
    "    \n",
    "    # Remove legend for individual subplots\n",
    "    ax.legend_.remove()\n",
    "\n",
    "# Create a single legend for all subplots and place it at the outer left\n",
    "handles, labels = ax.get_legend_handles_labels()\n",
    "fig.legend(handles, labels, bbox_to_anchor=(1.05, 1), loc='upper left')\n",
    "\n",
    "\n",
    "# Adjust layout to prevent overlapping\n",
    "plt.tight_layout()\n",
    "\n",
    "# Show the plot\n",
    "plt.show()\n"
   ]
  },
  {
   "cell_type": "markdown",
   "metadata": {},
   "source": [
    "#### Results per Image"
   ]
  },
  {
   "cell_type": "code",
   "execution_count": null,
   "metadata": {},
   "outputs": [],
   "source": [
    "def calculate_metrics(y_pred, y):\n",
    "    # Accuracy\n",
    "    accuracy = np.mean(y_pred == y)\n",
    "\n",
    "    # True Positives, False Positives, True Negatives, False Negatives\n",
    "    tp = np.sum(np.logical_and(y_pred == 1, y == 1))\n",
    "    fp = np.sum(np.logical_and(y_pred == 1, y == 0))\n",
    "    tn = np.sum(np.logical_and(y_pred == 0, y == 0))\n",
    "    fn = np.sum(np.logical_and(y_pred == 0, y == 1))\n",
    "\n",
    "    # Precision, Recall, F1 Score\n",
    "    precision = tp / (tp + fp) if tp + fp > 0 else 0\n",
    "    recall = tp / (tp + fn) if tp + fn > 0 else 0\n",
    "    f1 = 2 * (precision * recall) / (precision + recall) if precision + recall > 0 else 0\n",
    "    \n",
    "    return accuracy, precision, recall, f1"
   ]
  },
  {
   "cell_type": "code",
   "execution_count": null,
   "metadata": {},
   "outputs": [],
   "source": [
    "len(df_model)*len(models)"
   ]
  },
  {
   "cell_type": "code",
   "execution_count": null,
   "metadata": {},
   "outputs": [],
   "source": [
    "# General df with results\n",
    "results_per_class = pd.DataFrame()\n",
    "all_df = pd.DataFrame()\n",
    "all_metrics = []\n",
    "\n",
    "df_gt = df_gt.sort_values(by='Path')\n",
    "df_gt = df_gt.reset_index(drop=True)\n",
    "\n",
    "# Iterate over all models\n",
    "for num_model,model in tqdm(enumerate(models)): #['epochs_5_subsample_2_sexproportion_6040_noresch.csv']:\n",
    "\n",
    "    # Get proportion of female data\n",
    "    proportion_input = model.split('_')[5]\n",
    "    if proportion_input == '0100':\n",
    "        proportion = 100\n",
    "    elif proportion_input == '1000':\n",
    "        proportion = 0\n",
    "    else:\n",
    "        proportion = 100 - int(proportion_input[:2])\n",
    "\n",
    "    # Load model results\n",
    "    df_model = pd.read_csv(os.path.join(results_path,model_group,model))   \n",
    "\n",
    "    # Get classes\n",
    "    classes = df_model.columns[1:] \n",
    "\n",
    "    # Save df in all_df\n",
    "    df_model['Proportion'] = proportion    \n",
    "    \n",
    "    # Organize dataframes\n",
    "    df_model = df_model.sort_values(by='Path')\n",
    "    df_model = df_model.reset_index(drop=True)\n",
    "    \n",
    "    # Add to GT other features\n",
    "    df_model['Sex'] = df_gt['Sex']\n",
    "    df_model['Frontal/Lateral'] = df_gt['Frontal/Lateral']\n",
    "    df_model['AP/PA'] = df_gt['AP/PA']\n",
    "    df_model['Age'] = df_gt['Age']\n",
    "\n",
    "    # Add df\n",
    "    all_df = pd.concat([all_df, df_model], axis=0)        \n",
    "\n",
    "    # Convert to matrix\n",
    "    gt_matrix = np.array(df_gt[classes].astype(int))\n",
    "    model_matrix = np.array(df_model1[classes].astype(int))    \n",
    "\n",
    "    metrics = np.zeros((gt_matrix.shape[0],4))\n",
    "\n",
    "    for i in range(gt_matrix.shape[0]):\n",
    "        metrics[i,0], metrics[i,1], metrics[i,2], metrics[i,3] = calculate_metrics(model_matrix[i],gt_matrix[i])\n",
    "\n",
    "    all_metrics.append(metrics)\n",
    "    \n",
    "concatenated_matrix = np.vstack(all_metrics)\n",
    "for i,metric in enumerate(metrics_names):\n",
    "    all_df[metric] = concatenated_matrix[:,i]"
   ]
  },
  {
   "cell_type": "code",
   "execution_count": null,
   "metadata": {},
   "outputs": [],
   "source": [
    "all_df"
   ]
  },
  {
   "cell_type": "code",
   "execution_count": null,
   "metadata": {},
   "outputs": [],
   "source": [
    "# Define the age ranges and labels (you can adjust the step size as needed)\n",
    "\n",
    "fig, ax = plt.subplots(2, 2, figsize=(10, 10))\n",
    "age_step = 5  # or 10 for 10-year age groups\n",
    "age_ranges = range(0, max(all_df['Age']) + age_step, age_step)\n",
    "age_labels = [f\"{start}-{start + age_step - 1}\" for start in age_ranges[:-1]]\n",
    "\n",
    "# Create a new column in the DataFrame to store the age groups\n",
    "all_df['Age Group'] = pd.cut(all_df['Age'], bins=age_ranges, labels=age_labels, right=False)\n",
    "\n",
    "# Plot Accuracy with rotated x-axis labels\n",
    "sns.barplot(data=all_df[all_df['Proportion'] == 50], x='Age Group', y='Accuracy', ax=ax[0, 0], palette='crest')\n",
    "ax[0, 0].set_title('Accuracy')\n",
    "ax[0, 0].set_xticklabels(ax[0, 0].get_xticklabels(), rotation=45, ha='right')\n",
    "\n",
    "# Plot Precision with rotated x-axis labels\n",
    "sns.barplot(data=all_df[all_df['Proportion'] == 50], x='Age Group', y='Precission', ax=ax[0, 1], palette='crest')\n",
    "ax[0, 1].set_title('Precission')\n",
    "ax[0, 1].set_xticklabels(ax[0, 1].get_xticklabels(), rotation=45, ha='right')\n",
    "\n",
    "# Plot Recall with rotated x-axis labels\n",
    "sns.barplot(data=all_df[all_df['Proportion'] == 50], x='Age Group', y='Recall', ax=ax[1, 0], palette='crest')\n",
    "ax[1, 0].set_title('Recall')\n",
    "ax[1, 0].set_xticklabels(ax[1, 0].get_xticklabels(), rotation=45, ha='right')\n",
    "\n",
    "# Plot F1 Score with rotated x-axis labels\n",
    "sns.barplot(data=all_df[all_df['Proportion'] == 50], x='Age Group', y='F1 Score', ax=ax[1, 1], palette='crest')\n",
    "ax[1, 1].set_title('F1 Score')\n",
    "ax[1, 1].set_xticklabels(ax[1, 1].get_xticklabels(), rotation=45, ha='right')\n",
    "\n",
    "plt.suptitle('Metrics vs Age Group - Proportion 50/50')\n",
    "\n",
    "# Adjust layout\n",
    "plt.tight_layout()\n",
    "\n",
    "# Show the plots\n",
    "plt.show()\n",
    "\n"
   ]
  },
  {
   "cell_type": "code",
   "execution_count": null,
   "metadata": {},
   "outputs": [],
   "source": [
    "all_df.groupby('Age').count()"
   ]
  },
  {
   "cell_type": "code",
   "execution_count": null,
   "metadata": {},
   "outputs": [],
   "source": [
    "sns.histplot(data= all_df, x = 'Age', bins=20).set_title('Age Distribution')"
   ]
  },
  {
   "cell_type": "code",
   "execution_count": null,
   "metadata": {},
   "outputs": [],
   "source": [
    "# walker = pyg.walk(df_gt)"
   ]
  }
 ],
 "metadata": {
  "kernelspec": {
   "display_name": "pytorch_new",
   "language": "python",
   "name": "python3"
  },
  "language_info": {
   "codemirror_mode": {
    "name": "ipython",
    "version": 3
   },
   "file_extension": ".py",
   "mimetype": "text/x-python",
   "name": "python",
   "nbconvert_exporter": "python",
   "pygments_lexer": "ipython3",
   "version": "3.10.9"
  }
 },
 "nbformat": 4,
 "nbformat_minor": 2
}
