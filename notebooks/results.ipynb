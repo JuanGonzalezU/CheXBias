{
 "cells": [
  {
   "cell_type": "markdown",
   "metadata": {},
   "source": [
    "## Model results"
   ]
  },
  {
   "cell_type": "markdown",
   "metadata": {},
   "source": [
    "### Import libraries"
   ]
  },
  {
   "cell_type": "code",
   "execution_count": null,
   "metadata": {},
   "outputs": [],
   "source": [
    "import pandas as pd\n",
    "import os\n",
    "from IPython.display import display\n",
    "from sklearn.metrics import accuracy_score, precision_score, recall_score, f1_score\n",
    "import pandas as pd\n",
    "import numpy as np\n",
    "from tqdm import tqdm\n",
    "import seaborn as sns\n",
    "import pygwalker as pyg"
   ]
  },
  {
   "cell_type": "markdown",
   "metadata": {},
   "source": [
    "### Load results"
   ]
  },
  {
   "cell_type": "code",
   "execution_count": null,
   "metadata": {},
   "outputs": [],
   "source": [
    "# Path to results\n",
    "results_path = '/home/juandres/aml/CheXBias/data/processed/'\n",
    "\n",
    "# Choose model \n",
    "model = 'densenet121'\n",
    "\n",
    "# Get all .csv files\n",
    "for el in os.listdir(os.path.join(results_path,model)):\n",
    "    print('Results :',el)"
   ]
  },
  {
   "cell_type": "markdown",
   "metadata": {},
   "source": [
    "### Ground truth"
   ]
  },
  {
   "cell_type": "code",
   "execution_count": null,
   "metadata": {},
   "outputs": [],
   "source": [
    "df_gt = pd.read_csv('/home/juandres/aml/CheXBias/data/raw/CheXpert-v1.0/train_VisualCheXbert.csv')"
   ]
  },
  {
   "cell_type": "markdown",
   "metadata": {},
   "source": [
    "### Model1\n",
    "\n",
    "This is a model trained under the next parameters:\n",
    "* lr : 0.00004\n",
    "* epochs : 4\n",
    "* ... all default\n",
    "\n",
    "There are not subgroups in the training dataset based on age or sex. Given this, we want to analyze on this results if there is any bias"
   ]
  },
  {
   "cell_type": "code",
   "execution_count": null,
   "metadata": {},
   "outputs": [],
   "source": [
    "# Load predictions \n",
    "df_model1 = pd.read_csv(os.path.join(results_path,model,'model1.csv'))\n",
    "classes = df_model1.columns[1:]"
   ]
  },
  {
   "cell_type": "markdown",
   "metadata": {},
   "source": [
    "#### Get metrics per image"
   ]
  },
  {
   "cell_type": "code",
   "execution_count": null,
   "metadata": {},
   "outputs": [],
   "source": [
    "# Assuming `classes` variable contains the list of class names\n",
    "# Calculate metrics for each class\n",
    "metrics = {}\n",
    "\n",
    "for class_name in classes:\n",
    "    true_labels = df_gt[class_name]\n",
    "    predicted_labels = df_model1[class_name]\n",
    "    \n",
    "    accuracy = accuracy_score(true_labels, predicted_labels)\n",
    "    precision = precision_score(true_labels, predicted_labels)\n",
    "    recall = recall_score(true_labels, predicted_labels)\n",
    "    f1 = f1_score(true_labels, predicted_labels)\n",
    "    \n",
    "    metrics[class_name] = {\n",
    "        'Accuracy': accuracy,\n",
    "        'Precision': precision,\n",
    "        'Recall': recall,\n",
    "        'F1': f1\n",
    "    }\n",
    "\n",
    "# Create a DataFrame from the metrics dictionary\n",
    "metrics_per_class_df = pd.DataFrame(metrics).T\n"
   ]
  },
  {
   "cell_type": "markdown",
   "metadata": {},
   "source": [
    "Sort the models by path. After verification, they coincide"
   ]
  },
  {
   "cell_type": "code",
   "execution_count": null,
   "metadata": {},
   "outputs": [],
   "source": [
    "df_model1 = df_model1.sort_values(by='Path')\n",
    "df_model1 = df_model1.reset_index(drop=True)\n",
    "\n",
    "df_gt = df_gt.sort_values(by='Path')\n",
    "df_gt = df_gt.reset_index(drop=True)"
   ]
  },
  {
   "cell_type": "markdown",
   "metadata": {},
   "source": [
    "Verification step"
   ]
  },
  {
   "cell_type": "code",
   "execution_count": null,
   "metadata": {},
   "outputs": [],
   "source": [
    "yes = 0\n",
    "for i in tqdm(range(0,len(df_gt))):\n",
    "    val = 1 if df_gt.loc[i]['Path'] == df_model1.loc[i]['Path'] else 0\n",
    "    yes += val\n",
    "\n",
    "if yes == len(df_gt):\n",
    "    print('Same order!')\n",
    "else:\n",
    "    print('Something went wrong')"
   ]
  },
  {
   "cell_type": "markdown",
   "metadata": {},
   "source": [
    "Convert df to np matrix, so the metrics can be calculated faster"
   ]
  },
  {
   "cell_type": "code",
   "execution_count": null,
   "metadata": {},
   "outputs": [],
   "source": [
    "# Convert to matrix\n",
    "gt_matrix = np.array(df_gt[classes].astype(int))\n",
    "model1_matrix = np.array(df_model1[classes].astype(int))\n",
    "\n",
    "if model1_matrix.shape == gt_matrix.shape:\n",
    "    print('Perfect match')"
   ]
  },
  {
   "cell_type": "markdown",
   "metadata": {},
   "source": [
    "Get metrics"
   ]
  },
  {
   "cell_type": "code",
   "execution_count": null,
   "metadata": {},
   "outputs": [],
   "source": [
    "def calculate_metrics(y_pred, y):\n",
    "    # Accuracy\n",
    "    accuracy = np.mean(y_pred == y)\n",
    "\n",
    "    # True Positives, False Positives, True Negatives, False Negatives\n",
    "    tp = np.sum(np.logical_and(y_pred == 1, y == 1))\n",
    "    fp = np.sum(np.logical_and(y_pred == 1, y == 0))\n",
    "    tn = np.sum(np.logical_and(y_pred == 0, y == 0))\n",
    "    fn = np.sum(np.logical_and(y_pred == 0, y == 1))\n",
    "\n",
    "    # Precision, Recall, F1 Score\n",
    "    precision = tp / (tp + fp) if tp + fp > 0 else 0\n",
    "    recall = tp / (tp + fn) if tp + fn > 0 else 0\n",
    "    f1 = 2 * (precision * recall) / (precision + recall) if precision + recall > 0 else 0\n",
    "    \n",
    "    return accuracy, precision, recall, f1"
   ]
  },
  {
   "cell_type": "markdown",
   "metadata": {},
   "source": [
    "Get all metrics per image"
   ]
  },
  {
   "cell_type": "code",
   "execution_count": null,
   "metadata": {},
   "outputs": [],
   "source": [
    "# Each dimension corresponds to: accuracy, precision, recall, f1\n",
    "metrics = np.zeros((gt_matrix.shape[0],4))\n",
    "\n",
    "for i in tqdm(range(gt_matrix.shape[0]),desc=\"Getting metrics\", ncols=100):\n",
    "    metrics[i,0], metrics[i,1], metrics[i,2], metrics[i,3] = calculate_metrics(model1_matrix[i],gt_matrix[i])\n"
   ]
  },
  {
   "cell_type": "markdown",
   "metadata": {},
   "source": [
    "Add metrics to the gt_df"
   ]
  },
  {
   "cell_type": "code",
   "execution_count": null,
   "metadata": {},
   "outputs": [],
   "source": [
    "metrics_names = ['Accuracy','Precission','Recall','F1 Score']\n",
    "for i,metric in enumerate(metrics_names):\n",
    "    df_gt[metric] = metrics[:,i]  "
   ]
  },
  {
   "cell_type": "code",
   "execution_count": null,
   "metadata": {},
   "outputs": [],
   "source": [
    "df_gt.groupby('Sex')"
   ]
  },
  {
   "cell_type": "code",
   "execution_count": null,
   "metadata": {},
   "outputs": [],
   "source": [
    "walker = pyg.walk(df_gt)"
   ]
  },
  {
   "cell_type": "code",
   "execution_count": null,
   "metadata": {},
   "outputs": [],
   "source": [
    "walker = pyg.walk(metrics_per_class_df.reset_index())"
   ]
  }
 ],
 "metadata": {
  "kernelspec": {
   "display_name": "pytorch_new",
   "language": "python",
   "name": "python3"
  },
  "language_info": {
   "codemirror_mode": {
    "name": "ipython",
    "version": 3
   },
   "file_extension": ".py",
   "mimetype": "text/x-python",
   "name": "python",
   "nbconvert_exporter": "python",
   "pygments_lexer": "ipython3",
   "version": "3.10.9"
  }
 },
 "nbformat": 4,
 "nbformat_minor": 2
}
